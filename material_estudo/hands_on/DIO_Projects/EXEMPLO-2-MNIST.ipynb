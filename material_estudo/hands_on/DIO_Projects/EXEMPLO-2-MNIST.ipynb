{
 "cells": [
  {
   "cell_type": "markdown",
   "id": "d687f646-7460-4afc-821c-f3854839cd23",
   "metadata": {},
   "source": [
    "# EXEMPLO 2 - Rede Neural. Estudo de Caso: Mnist.\n",
    "\n",
    "Neste exemplo, vamos utilizar uma Rede Neural para resolver um problema clássico de classificação: o reconhecimento de dígitos escritos à mão, utilizando o dataset MNIST.\n",
    "\n",
    "O MNIST é um conjunto de dados muito conhecido na área de Machine Learning.\n",
    "Ele contém milhares de imagens em preto e branco de dígitos de 0 a 9, escritas à mão,\n",
    "e o objetivo é treinar um modelo que consiga identificar corretamente qual número aparece em cada imagem.\n",
    "\n",
    "Vamos usar uma Rede Neural simples (usando PyTorch) para aprender os padrões dessas imagens\n",
    "e, depois do treinamento, testar sua capacidade de reconhecer novos dígitos.\n",
    "\n",
    "Esse exemplo é muito útil para entender como redes neurais funcionam em problemas visuais\n",
    "e serve como porta de entrada para tarefas mais complexas de Visão Computacional."
   ]
  },
  {
   "cell_type": "code",
   "execution_count": 2,
   "id": "65aebd8b-fa3e-43a4-8148-492b9ae1f6bc",
   "metadata": {},
   "outputs": [],
   "source": [
    "import numpy as np\n",
    "import torch\n",
    "import torch.nn.functional as F\n",
    "import torchvision\n",
    "import matplotlib.pyplot as plt\n",
    "from time import time\n",
    "from torchvision import datasets\n",
    "from torch import nn, optim"
   ]
  },
  {
   "cell_type": "code",
   "execution_count": null,
   "id": "c8387065-ea4c-41a7-b927-58cac486ed47",
   "metadata": {},
   "outputs": [],
   "source": []
  }
 ],
 "metadata": {
  "kernelspec": {
   "display_name": "Python 3 (ipykernel)",
   "language": "python",
   "name": "python3"
  },
  "language_info": {
   "codemirror_mode": {
    "name": "ipython",
    "version": 3
   },
   "file_extension": ".py",
   "mimetype": "text/x-python",
   "name": "python",
   "nbconvert_exporter": "python",
   "pygments_lexer": "ipython3",
   "version": "3.13.0"
  }
 },
 "nbformat": 4,
 "nbformat_minor": 5
}
