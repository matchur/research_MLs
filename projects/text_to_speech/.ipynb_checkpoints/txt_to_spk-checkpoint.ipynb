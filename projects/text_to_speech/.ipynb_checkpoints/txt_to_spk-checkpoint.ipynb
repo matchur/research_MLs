{
 "cells": [
  {
   "cell_type": "code",
   "execution_count": null,
   "id": "9d33f27b",
   "metadata": {},
   "outputs": [],
   "source": [
    "teste"
   ]
  },
  {
   "cell_type": "code",
   "execution_count": null,
   "id": "b8ef351c",
   "metadata": {},
   "outputs": [],
   "source": []
  }
 ],
 "metadata": {
  "language_info": {
   "name": "python"
  }
 },
 "nbformat": 4,
 "nbformat_minor": 5
}
