{
 "cells": [
  {
   "cell_type": "markdown",
   "id": "9bddfa25-ea1c-44f2-a389-def39fdacf67",
   "metadata": {},
   "source": [
    "# Reconhecimento em Tempo Real com Webcam \n",
    "\n",
    "Esse projeto tem como objetivo utilizar a webcam para fazer o reconhecimento de face e objetos, o objetivo é aprender como manipular o dispositivo e integrar isso a uma rede de deep learning.  "
   ]
  },
  {
   "cell_type": "code",
   "execution_count": null,
   "id": "0fae7550",
   "metadata": {},
   "outputs": [],
   "source": [
    "import cv2\n",
    "from ultralytics import YOLO\n",
    "\n",
    "# Carrega o modelo YOLOv8 pré-treinado (leve e rápido)\n",
    "model = YOLO(\"yolov8n.pt\")  # Use 'yolov8n.pt' para melhor desempenho em tempo real\n",
    "\n",
    "# Inicializa a webcam (0 = câmera padrão)\n",
    "cap = cv2.VideoCapture(0)\n",
    "\n",
    "# Verifica se a câmera foi aberta corretamente\n",
    "if not cap.isOpened():\n",
    "    print(\"Erro: Não foi possível acessar a webcam.\")\n",
    "    exit()\n",
    "\n",
    "# Loop para capturar e processar os frames da webcam\n",
    "while True:\n",
    "    ret, frame = cap.read()\n",
    "    if not ret:\n",
    "        print(\"Erro ao capturar o frame.\")\n",
    "        break\n",
    "\n",
    "    # Aplica o modelo YOLO no frame\n",
    "    results = model(frame, verbose=False)\n",
    "\n",
    "    # Obtém o frame anotado com as detecções\n",
    "    annotated_frame = results[0].plot()\n",
    "\n",
    "    # Exibe o frame com as detecções em uma janela\n",
    "    cv2.imshow(\"Detecção em tempo real com YOLOv8\", annotated_frame)\n",
    "\n",
    "    # Pressione ESC (código 27) para encerrar\n",
    "    if cv2.waitKey(1) == 27:\n",
    "        break\n",
    "\n",
    "# Libera a câmera e fecha a janela\n",
    "cap.release()\n",
    "cv2.destroyAllWindows()\n"
   ]
  },
  {
   "cell_type": "code",
   "execution_count": null,
   "id": "59fd4461-26f7-440b-acfe-446711fc53b7",
   "metadata": {},
   "outputs": [],
   "source": []
  }
 ],
 "metadata": {
  "kernelspec": {
   "display_name": "Python 3 (ipykernel)",
   "language": "python",
   "name": "python3"
  },
  "language_info": {
   "codemirror_mode": {
    "name": "ipython",
    "version": 3
   },
   "file_extension": ".py",
   "mimetype": "text/x-python",
   "name": "python",
   "nbconvert_exporter": "python",
   "pygments_lexer": "ipython3",
   "version": "3.13.0"
  }
 },
 "nbformat": 4,
 "nbformat_minor": 5
}
