{
 "cells": [
  {
   "cell_type": "code",
   "execution_count": null,
   "id": "db62b425",
   "metadata": {},
   "outputs": [],
   "source": [
    "teste\n"
   ]
  },
  {
   "cell_type": "code",
   "execution_count": null,
   "id": "a1ec3a56",
   "metadata": {},
   "outputs": [],
   "source": []
  }
 ],
 "metadata": {
  "language_info": {
   "name": "python"
  }
 },
 "nbformat": 4,
 "nbformat_minor": 5
}
