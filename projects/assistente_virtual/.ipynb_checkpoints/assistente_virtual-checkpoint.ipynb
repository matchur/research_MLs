{
 "cells": [
  {
   "cell_type": "code",
   "execution_count": 1,
   "id": "0150f8b3",
   "metadata": {},
   "outputs": [
    {
     "ename": "ModuleNotFoundError",
     "evalue": "No module named 'playsound'",
     "output_type": "error",
     "traceback": [
      "\u001b[31m---------------------------------------------------------------------------\u001b[39m",
      "\u001b[31mModuleNotFoundError\u001b[39m                       Traceback (most recent call last)",
      "\u001b[36mCell\u001b[39m\u001b[36m \u001b[39m\u001b[32mIn[1]\u001b[39m\u001b[32m, line 7\u001b[39m\n\u001b[32m      5\u001b[39m \u001b[38;5;28;01mimport\u001b[39;00m\u001b[38;5;250m \u001b[39m\u001b[34;01mwikipedia\u001b[39;00m\n\u001b[32m      6\u001b[39m \u001b[38;5;28;01mimport\u001b[39;00m\u001b[38;5;250m \u001b[39m\u001b[34;01mpyjokes\u001b[39;00m\n\u001b[32m----> \u001b[39m\u001b[32m7\u001b[39m \u001b[38;5;28;01mimport\u001b[39;00m\u001b[38;5;250m \u001b[39m\u001b[34;01mplaysound\u001b[39;00m\n\u001b[32m      9\u001b[39m \u001b[38;5;66;03m# Módulo de Text to Speech (TTS)\u001b[39;00m\n\u001b[32m     10\u001b[39m \u001b[38;5;28;01mdef\u001b[39;00m\u001b[38;5;250m \u001b[39m\u001b[34mspeak\u001b[39m(text):\n",
      "\u001b[31mModuleNotFoundError\u001b[39m: No module named 'playsound'"
     ]
    }
   ],
   "source": [
    "import speech_recognition as sr\n",
    "from gtts import gTTS\n",
    "import os\n",
    "import webbrowser\n",
    "import wikipedia\n",
    "import pyjokes\n",
    "import pygame\n",
    "\n",
    "# Módulo de Text to Speech (TTS)\n",
    "# Speak converted audio to text\n",
    "def speak(text):\n",
    "    tts = gTTS(text=text, lang='en')\n",
    "    filename = \"voice.mp3\"\n",
    "    try:\n",
    "        os.remove(filename)\n",
    "    except OSError:\n",
    "        pass\n",
    "    tts.save(filename)\n",
    "\n",
    "    # Usando o pygame para tocar o áudio\n",
    "    pygame.mixer.init()\n",
    "    pygame.mixer.music.load(filename)\n",
    "    pygame.mixer.music.play()\n",
    "    while pygame.mixer.music.get_busy():  # Aguarda até que o áudio termine\n",
    "        pygame.time.Clock().tick(10)\n",
    "\n",
    "\n",
    "# Módulo de Speech to Text (STT)\n",
    "def get_audio():\n",
    "    r = sr.Recognizer()\n",
    "    with sr.Microphone() as source:\n",
    "        r.pause_threshold = 1\n",
    "        r.adjust_for_ambient_noise(source, duration=1)\n",
    "        print(\"Listening for a command...\")\n",
    "        audio = r.listen(source)\n",
    "        said = \"\"\n",
    "        try:\n",
    "            said = r.recognize_google(audio)\n",
    "            print(f\"You said: {said}\")\n",
    "        except sr.UnknownValueError:\n",
    "            speak(\"Sorry, I did not understand that.\")\n",
    "        except sr.RequestError:\n",
    "            speak(\"Sorry, the service is not available.\")\n",
    "    return said.lower()\n",
    "\n",
    "# Função para executar comandos\n",
    "def respond(text):\n",
    "    print(\"Executing command based on recognized text: \" + text)\n",
    "    if 'search wikipedia' in text:\n",
    "        speak(\"What do you want to search on Wikipedia?\")\n",
    "        query = get_audio()\n",
    "        if query:\n",
    "            result = wikipedia.summary(query, sentences=2)\n",
    "            speak(\"According to Wikipedia\")\n",
    "            print(result)\n",
    "            speak(result)\n",
    "    elif 'open youtube' in text:\n",
    "        speak(\"What do you want to search on YouTube?\")\n",
    "        query = get_audio()\n",
    "        if query:\n",
    "            url = f\"https://www.youtube.com/results?search_query={query}\"\n",
    "            webbrowser.open(url)\n",
    "            speak(f\"Here are the results for {query} on YouTube.\")\n",
    "    elif 'tell me a joke' in text:\n",
    "        speak(pyjokes.get_joke())\n",
    "    elif 'exit' in text:\n",
    "        speak(\"Goodbye, till next time.\")\n",
    "        exit()\n",
    "\n",
    "# Sistema de loop para aguardar e responder comandos\n",
    "while True:\n",
    "    text = get_audio()\n",
    "    respond(text)\n"
   ]
  },
  {
   "cell_type": "code",
   "execution_count": null,
   "id": "598901c6-e968-4c63-8c93-79a69168f6e3",
   "metadata": {},
   "outputs": [],
   "source": []
  }
 ],
 "metadata": {
  "kernelspec": {
   "display_name": "Python 3 (ipykernel)",
   "language": "python",
   "name": "python3"
  },
  "language_info": {
   "codemirror_mode": {
    "name": "ipython",
    "version": 3
   },
   "file_extension": ".py",
   "mimetype": "text/x-python",
   "name": "python",
   "nbconvert_exporter": "python",
   "pygments_lexer": "ipython3",
   "version": "3.13.0"
  }
 },
 "nbformat": 4,
 "nbformat_minor": 5
}
